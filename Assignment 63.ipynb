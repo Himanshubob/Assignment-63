{
 "cells": [
  {
   "cell_type": "markdown",
   "id": "47e87c7e",
   "metadata": {},
   "source": [
    "# Q1. What are Eigenvalues and Eigenvectors? How are they related to the Eigen-Decomposition approach? Explain with an example."
   ]
  },
  {
   "cell_type": "markdown",
   "id": "33e9e8af",
   "metadata": {},
   "source": [
    "# Eigenvalues are the special set of scalar values that is associated with the set of linear equations most probably in the matrix equations. The eigenvectors are also termed as characteristic roots. It is a non-zero vector that can be changed at most by its scalar factor after the application of linear transformations"
   ]
  },
  {
   "cell_type": "markdown",
   "id": "88a9d6f3",
   "metadata": {},
   "source": [
    "# Q2. What is eigen decomposition and what is its significance in linear algebra?\n"
   ]
  },
  {
   "cell_type": "markdown",
   "id": "95636798",
   "metadata": {},
   "source": [
    "# eigen decomposition means calculate the eigen vector corresponding eigen value  and calculate  most impotant feature "
   ]
  },
  {
   "cell_type": "markdown",
   "id": "5e2af380",
   "metadata": {},
   "source": [
    "# Q3. What are the conditions that must be satisfied for a square matrix to be diagonalizable using the Eigen-Decomposition approach? Provide a brief proof to support your answer."
   ]
  },
  {
   "cell_type": "markdown",
   "id": "fdaaea94",
   "metadata": {},
   "source": [
    "# the matrix is diagonalizable if the eigen vectors of the matrix are linearly independent. So it mean for and nxn matrix there should be n linearly independent eigen vectors then it can be diagonalized."
   ]
  },
  {
   "cell_type": "markdown",
   "id": "9b1d6988",
   "metadata": {},
   "source": [
    "# Q4. What is the significance of the spectral theorem in the context of the Eigen-Decomposition approach? How is it related to the diagonalizability of a matrix? Explain with an example."
   ]
  },
  {
   "cell_type": "markdown",
   "id": "002a979e",
   "metadata": {},
   "source": [
    "# the given egien value are all distint so the  matrix is diagonalizable "
   ]
  },
  {
   "cell_type": "markdown",
   "id": "c0fc0b86",
   "metadata": {},
   "source": [
    "# Q5. How do you find the eigenvalues of a matrix and what do they represent?"
   ]
  },
  {
   "cell_type": "markdown",
   "id": "fc1088a6",
   "metadata": {},
   "source": [
    "# egien value is represent the which feature is mostempotant the eigen value is hishet the featuter is impotante  egien value are lesser  feature is not impotant  "
   ]
  },
  {
   "cell_type": "markdown",
   "id": "425893fe",
   "metadata": {},
   "source": [
    "# Q6. What are eigenvectors and how are they related to eigenvalues?"
   ]
  },
  {
   "cell_type": "markdown",
   "id": "a849ce61",
   "metadata": {},
   "source": [
    "# Its eigenvectors are those vectors that are only stretched, with no rotation or shear."
   ]
  },
  {
   "cell_type": "markdown",
   "id": "47c7dfd3",
   "metadata": {},
   "source": [
    "# Q7. Can you explain the geometric interpretation of eigenvectors and eigenvalues?"
   ]
  },
  {
   "cell_type": "markdown",
   "id": "a1639040",
   "metadata": {},
   "source": [
    "# Geometrically, vectors are multi-dimensional quantities with magnitude and direction, often pictured as arrows. A linear transformation rotates, stretches, or shears the vectors it acts upon. Its eigenvectors are those vectors that are only stretched, with no rotation or shear."
   ]
  },
  {
   "cell_type": "markdown",
   "id": "c853bc3f",
   "metadata": {},
   "source": [
    "# Q8. What are some real-world applications of eigen decomposition?"
   ]
  },
  {
   "cell_type": "markdown",
   "id": "a3c209e8",
   "metadata": {},
   "source": [
    "# It is used in car design especially car stereo system and also in decoupling three phase system"
   ]
  },
  {
   "cell_type": "markdown",
   "id": "c96ac623",
   "metadata": {},
   "source": [
    "# Q9. Can a matrix have more than one set of eigenvectors and eigenvalues?"
   ]
  },
  {
   "cell_type": "markdown",
   "id": "2029a544",
   "metadata": {},
   "source": [
    "# Yes. Since there are n distinct eigenvalues the corresponding eigenvectors form a basis for Rn. So knowing the eigenvectors and eigenvalues completely determines what the linear transformation corresponding to the matrix is."
   ]
  },
  {
   "cell_type": "markdown",
   "id": "d039ce87",
   "metadata": {},
   "source": [
    "# Q10. In what ways is the Eigen-Decomposition approach useful in data analysis and machine learning? Discuss at least three specific applications or techniques that rely on Eigen-Decomposition."
   ]
  },
  {
   "cell_type": "markdown",
   "id": "52f15efb",
   "metadata": {},
   "source": [
    "# egendecomposition provides us with a tool to decompose a matrix by discovering the eigenvalues and the eigenvectors. "
   ]
  },
  {
   "cell_type": "code",
   "execution_count": null,
   "id": "e5b0ffb5",
   "metadata": {},
   "outputs": [],
   "source": []
  }
 ],
 "metadata": {
  "kernelspec": {
   "display_name": "Python 3 (ipykernel)",
   "language": "python",
   "name": "python3"
  },
  "language_info": {
   "codemirror_mode": {
    "name": "ipython",
    "version": 3
   },
   "file_extension": ".py",
   "mimetype": "text/x-python",
   "name": "python",
   "nbconvert_exporter": "python",
   "pygments_lexer": "ipython3",
   "version": "3.10.9"
  }
 },
 "nbformat": 4,
 "nbformat_minor": 5
}
